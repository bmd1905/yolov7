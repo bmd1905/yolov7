{
 "cells": [
  {
   "cell_type": "code",
   "execution_count": null,
   "metadata": {},
   "outputs": [
    {
     "ename": "",
     "evalue": "",
     "output_type": "error",
     "traceback": [
      "\u001b[1;31mRunning cells with '/Users/bmd1905/opt/anaconda3/envs/yolov7/bin/python' requires the ipykernel package.\n",
      "\u001b[1;31mRun the following command to install 'ipykernel' into the Python environment. \n",
      "\u001b[1;31mCommand: 'conda install -p /Users/bmd1905/opt/anaconda3/envs/yolov7 ipykernel --update-deps --force-reinstall'"
     ]
    }
   ],
   "source": [
    "!python detect.py \\\n",
    "        --weights imbalanced_best.pt \\\n",
    "        --conf 0.25 \\\n",
    "        --img-size 640 \\\n",
    "        --source ../imbalanced-video-test-340images.mp4 \\\n",
    "        --device mps"
   ]
  },
  {
   "cell_type": "code",
   "execution_count": null,
   "metadata": {},
   "outputs": [],
   "source": [
    "!python detect.py --weights imbalanced_best.pt --conf 0.25 --img-size 640 --source ../imbalanced-video-test-340images.mp4"
   ]
  },
  {
   "cell_type": "code",
   "execution_count": null,
   "metadata": {},
   "outputs": [],
   "source": [
    "python detect.py --weights imbalanced_best.pt --conf 0.25 --img-size 640 --source inference/images/bus.jpg"
   ]
  }
 ],
 "metadata": {
  "kernelspec": {
   "display_name": "Python 3",
   "language": "python",
   "name": "python3"
  },
  "language_info": {
   "name": "python",
   "version": "3.9.16"
  },
  "orig_nbformat": 4
 },
 "nbformat": 4,
 "nbformat_minor": 2
}
